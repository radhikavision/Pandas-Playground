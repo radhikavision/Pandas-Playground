{
 "cells": [
  {
   "cell_type": "markdown",
   "id": "0af1eb79",
   "metadata": {},
   "source": [
    "# Setting up a development environment and Install Pandas"
   ]
  },
  {
   "cell_type": "markdown",
   "id": "67114fc8",
   "metadata": {},
   "source": [
    "Setting up a development environment for working with Pandas typically involves installing the necessary software and libraries. \n",
    "\n",
    "* Pandas is a Python library used for data manipulation and analysis. \n",
    "\n",
    "### Here are the steps to set up a basic development environment for working with Pandas:"
   ]
  },
  {
   "cell_type": "markdown",
   "id": "2d067074",
   "metadata": {},
   "source": [
    "## Step 1: Install Python:\n",
    "Make sure you have Python installed on your system. You can download the latest version from the official Python website."
   ]
  },
  {
   "cell_type": "markdown",
   "id": "aca2b016",
   "metadata": {},
   "source": [
    "## Step 2: Install pip:\n",
    " Pip is the package installer for Python. It is usually included with Python installations, but you might need to upgrade it to the latest version. \n",
    " \n",
    " Open a terminal or command prompt and run the following command:"
   ]
  },
  {
   "cell_type": "code",
   "execution_count": 5,
   "id": "5407828c",
   "metadata": {},
   "outputs": [
    {
     "name": "stdout",
     "output_type": "stream",
     "text": [
      "pip 21.2.4 from C:\\Users\\admin\\anaconda3\\lib\\site-packages\\pip (python 3.9)\n",
      "\n",
      "Note: you may need to restart the kernel to use updated packages.\n"
     ]
    }
   ],
   "source": [
    "pip --version "
   ]
  },
  {
   "cell_type": "markdown",
   "id": "0ba0ae61",
   "metadata": {},
   "source": [
    "### If pip is not installed, you can install it using the following steps:\n",
    "\n",
    "### 1. Download get-pip.py:\n",
    "\n",
    "Open your web browser and go to the get-pip.py page. Right-click on the page and save the file as get-pip.py to your computer.\n",
    "\n",
    "### 2. Open a Terminal or Command Prompt:\n",
    "\n",
    "Open a terminal or command prompt on your computer.\n",
    "\n",
    "### 3. Navigate to the Directory:\n",
    "\n",
    "Use the cd command to navigate to the directory where you saved get-pip.py.\n",
    "\n",
    "### 4. Install pip:\n",
    "\n",
    "Run the following command to install pip:\n"
   ]
  },
  {
   "cell_type": "code",
   "execution_count": null,
   "id": "0121c96f",
   "metadata": {},
   "outputs": [],
   "source": [
    "python get-pip.py"
   ]
  },
  {
   "cell_type": "markdown",
   "id": "1be1c55e",
   "metadata": {},
   "source": [
    "#### If you're using Python 3, you might need to use python3 instead:"
   ]
  },
  {
   "cell_type": "code",
   "execution_count": null,
   "id": "9e72b6bb",
   "metadata": {},
   "outputs": [],
   "source": [
    "python3 get-pip.py"
   ]
  },
  {
   "cell_type": "markdown",
   "id": "c6c44b16",
   "metadata": {},
   "source": [
    "### 5.Verify the Installation:\n",
    "After the installation is complete, you can check the pip version by running:"
   ]
  },
  {
   "cell_type": "code",
   "execution_count": null,
   "id": "4e5f58c0",
   "metadata": {},
   "outputs": [],
   "source": [
    "pip --version"
   ]
  },
  {
   "cell_type": "markdown",
   "id": "625d2469",
   "metadata": {},
   "source": [
    "This should display the version of pip that has been installed.\n",
    "\n",
    "Now you should have pip installed on your system, and you can use it to install Python packages, including Pandas."
   ]
  },
  {
   "cell_type": "markdown",
   "id": "c9dbb9e7",
   "metadata": {},
   "source": [
    "## Step 3: Install Pandas:\n",
    "#### Once you have pip installed, you can install Pandas by running the following command:"
   ]
  },
  {
   "cell_type": "code",
   "execution_count": 4,
   "id": "fbf16e51",
   "metadata": {
    "scrolled": true
   },
   "outputs": [
    {
     "name": "stdout",
     "output_type": "stream",
     "text": [
      "Requirement already satisfied: pandas in c:\\users\\admin\\anaconda3\\lib\\site-packages (1.3.4)\n",
      "Requirement already satisfied: numpy>=1.17.3 in c:\\users\\admin\\anaconda3\\lib\\site-packages (from pandas) (1.20.3)\n",
      "Requirement already satisfied: pytz>=2017.3 in c:\\users\\admin\\anaconda3\\lib\\site-packages (from pandas) (2021.3)\n",
      "Requirement already satisfied: python-dateutil>=2.7.3 in c:\\users\\admin\\anaconda3\\lib\\site-packages (from pandas) (2.8.2)\n",
      "Requirement already satisfied: six>=1.5 in c:\\users\\admin\\anaconda3\\lib\\site-packages (from python-dateutil>=2.7.3->pandas) (1.16.0)\n",
      "Note: you may need to restart the kernel to use updated packages.\n"
     ]
    }
   ],
   "source": [
    "pip install pandas"
   ]
  },
  {
   "cell_type": "markdown",
   "id": "9823ae63",
   "metadata": {},
   "source": [
    "## Step 4: Install Jupyter Notebooks (Optional but recommended):\n",
    "Jupyter Notebooks provide an interactive environment for working with data. You can install it using:"
   ]
  },
  {
   "cell_type": "code",
   "execution_count": null,
   "id": "cf966474",
   "metadata": {},
   "outputs": [],
   "source": [
    "pip install jupyter"
   ]
  },
  {
   "cell_type": "markdown",
   "id": "0a656c84",
   "metadata": {},
   "source": [
    "## Step 5 : Start a Jupyter Notebook (Optional):"
   ]
  },
  {
   "cell_type": "markdown",
   "id": "791eb620",
   "metadata": {},
   "source": [
    "If you installed Jupyter Notebooks, you can start it by running the following command in your terminal or command prompt:"
   ]
  },
  {
   "cell_type": "code",
   "execution_count": null,
   "id": "c0b90215",
   "metadata": {},
   "outputs": [],
   "source": [
    "jupyter notebook"
   ]
  },
  {
   "cell_type": "markdown",
   "id": "48ad001f",
   "metadata": {},
   "source": [
    "This will open a new tab in your web browser with the Jupyter Notebook interface."
   ]
  },
  {
   "cell_type": "markdown",
   "id": "7b544220",
   "metadata": {},
   "source": [
    "###  Step 5 : Verify the Installation:"
   ]
  },
  {
   "cell_type": "markdown",
   "id": "c5d12d70",
   "metadata": {},
   "source": [
    "To verify that Pandas is installed correctly, open a Python interpreter or a Jupyter Notebook and run the following commands:"
   ]
  },
  {
   "cell_type": "code",
   "execution_count": null,
   "id": "460ca5e9",
   "metadata": {},
   "outputs": [],
   "source": [
    "import pandas as pd\n",
    "print(pd.__version__)"
   ]
  },
  {
   "cell_type": "markdown",
   "id": "7acdb160",
   "metadata": {},
   "source": [
    "## Step 6: Import Pandas"
   ]
  },
  {
   "cell_type": "code",
   "execution_count": 2,
   "id": "1fa9adbe",
   "metadata": {},
   "outputs": [
    {
     "name": "stdout",
     "output_type": "stream",
     "text": [
      "1.3.4\n"
     ]
    }
   ],
   "source": [
    "import pandas as pd\n",
    "\n",
    "print(pd.__version__)\n"
   ]
  },
  {
   "cell_type": "markdown",
   "id": "0c9d9891",
   "metadata": {},
   "source": [
    "### Now you have a basic development environment set up for working with Pandas. \n",
    "### You can start writing Python scripts or Jupyter Notebooks to analyze and manipulate data using Pandas."
   ]
  },
  {
   "cell_type": "code",
   "execution_count": null,
   "id": "c197d0fe",
   "metadata": {},
   "outputs": [],
   "source": []
  }
 ],
 "metadata": {
  "kernelspec": {
   "display_name": "Python 3 (ipykernel)",
   "language": "python",
   "name": "python3"
  },
  "language_info": {
   "codemirror_mode": {
    "name": "ipython",
    "version": 3
   },
   "file_extension": ".py",
   "mimetype": "text/x-python",
   "name": "python",
   "nbconvert_exporter": "python",
   "pygments_lexer": "ipython3",
   "version": "3.9.7"
  }
 },
 "nbformat": 4,
 "nbformat_minor": 5
}
