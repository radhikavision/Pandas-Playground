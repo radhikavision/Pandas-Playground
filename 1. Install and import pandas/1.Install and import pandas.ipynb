{
 "cells": [
  {
   "cell_type": "markdown",
   "id": "0af1eb79",
   "metadata": {},
   "source": [
    "## Install Pandas"
   ]
  },
  {
   "cell_type": "markdown",
   "id": "67114fc8",
   "metadata": {},
   "source": [
    "#### To install Pandas in Python, you can use the package manager pip. Here's how to install Pandas step by step:"
   ]
  },
  {
   "cell_type": "markdown",
   "id": "2d067074",
   "metadata": {},
   "source": [
    "## Step 1: Open a Terminal or Command Prompt:\n",
    "#### If you're on Windows, open the Command Prompt. If you're on macOS or Linux, open the Terminal."
   ]
  },
  {
   "cell_type": "markdown",
   "id": "aca2b016",
   "metadata": {},
   "source": [
    "## Step 2: Check if pip is Installed:\n",
    "#### You can check if pip is installed on your system by running the following command:"
   ]
  },
  {
   "cell_type": "code",
   "execution_count": 3,
   "id": "5407828c",
   "metadata": {},
   "outputs": [
    {
     "name": "stdout",
     "output_type": "stream",
     "text": [
      "pip 21.2.4 from C:\\Users\\admin\\anaconda3\\lib\\site-packages\\pip (python 3.9)\n",
      "\n",
      "Note: you may need to restart the kernel to use updated packages.\n"
     ]
    }
   ],
   "source": [
    "pip --version"
   ]
  },
  {
   "cell_type": "markdown",
   "id": "0ba0ae61",
   "metadata": {},
   "source": [
    "#### If it's not installed, you will need to install it. You can install pip by following the instructions on the official Python website: https://pip.pypa.io/en/stable/installing/"
   ]
  },
  {
   "cell_type": "markdown",
   "id": "c9dbb9e7",
   "metadata": {},
   "source": [
    "## Step 3: Install Pandas:\n",
    "#### Once you have pip installed, you can install Pandas by running the following command:"
   ]
  },
  {
   "cell_type": "code",
   "execution_count": 4,
   "id": "fbf16e51",
   "metadata": {},
   "outputs": [
    {
     "name": "stdout",
     "output_type": "stream",
     "text": [
      "Requirement already satisfied: pandas in c:\\users\\admin\\anaconda3\\lib\\site-packages (1.3.4)\n",
      "Requirement already satisfied: numpy>=1.17.3 in c:\\users\\admin\\anaconda3\\lib\\site-packages (from pandas) (1.20.3)\n",
      "Requirement already satisfied: pytz>=2017.3 in c:\\users\\admin\\anaconda3\\lib\\site-packages (from pandas) (2021.3)\n",
      "Requirement already satisfied: python-dateutil>=2.7.3 in c:\\users\\admin\\anaconda3\\lib\\site-packages (from pandas) (2.8.2)\n",
      "Requirement already satisfied: six>=1.5 in c:\\users\\admin\\anaconda3\\lib\\site-packages (from python-dateutil>=2.7.3->pandas) (1.16.0)\n",
      "Note: you may need to restart the kernel to use updated packages.\n"
     ]
    }
   ],
   "source": [
    "pip install pandas"
   ]
  },
  {
   "cell_type": "markdown",
   "id": "77794576",
   "metadata": {},
   "source": [
    "## Step 4: Import Pandas\n",
    "\n",
    "#### After the installation is complete, you can verify that Pandas has been successfully installed by checking its version. Open a Python interpreter (by running python in your command prompt or terminal) and enter the following:"
   ]
  },
  {
   "cell_type": "code",
   "execution_count": 2,
   "id": "1fa9adbe",
   "metadata": {},
   "outputs": [
    {
     "name": "stdout",
     "output_type": "stream",
     "text": [
      "1.3.4\n"
     ]
    }
   ],
   "source": [
    "import pandas as pd\n",
    "\n",
    "print(pd.__version__)\n"
   ]
  },
  {
   "cell_type": "markdown",
   "id": "7841e050",
   "metadata": {},
   "source": [
    "### This code will print the version of Pandas that is installed on your system.\n",
    "\n",
    "### That's it! You've successfully installed Pandas, and you're ready to start working with this powerful data manipulation and analysis library in Python."
   ]
  },
  {
   "cell_type": "code",
   "execution_count": null,
   "id": "9a1874f0",
   "metadata": {},
   "outputs": [],
   "source": []
  }
 ],
 "metadata": {
  "kernelspec": {
   "display_name": "Python 3 (ipykernel)",
   "language": "python",
   "name": "python3"
  },
  "language_info": {
   "codemirror_mode": {
    "name": "ipython",
    "version": 3
   },
   "file_extension": ".py",
   "mimetype": "text/x-python",
   "name": "python",
   "nbconvert_exporter": "python",
   "pygments_lexer": "ipython3",
   "version": "3.9.7"
  }
 },
 "nbformat": 4,
 "nbformat_minor": 5
}
