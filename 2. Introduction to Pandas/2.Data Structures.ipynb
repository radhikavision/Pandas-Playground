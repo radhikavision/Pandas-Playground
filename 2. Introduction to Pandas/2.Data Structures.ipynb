{
 "cells": [
  {
   "cell_type": "markdown",
   "id": "39bbd43a",
   "metadata": {},
   "source": [
    "# Data Structures\n",
    "\n",
    "\n",
    "### Pandas is a Python library that provides powerful and flexible data structures for data manipulation and analysis. The two primary data structures in Pandas are:"
   ]
  },
  {
   "cell_type": "markdown",
   "id": "aa9c86eb",
   "metadata": {},
   "source": [
    "### DataFrame:\n",
    "\n",
    "* A DataFrame is a 2-dimensional, tabular data structure similar to a spreadsheet or SQL table.\n",
    "* It is the most commonly used data structure in Pandas and is similar to a database table or an Excel sheet.\n",
    "* Each column in a DataFrame can have a different data type.\n",
    "* You can think of a DataFrame as a collection of Series, where each column is a Series."
   ]
  },
  {
   "cell_type": "markdown",
   "id": "71b401f5",
   "metadata": {},
   "source": [
    "### A Pandas DataFrame is a versatile data structure with the following characteristics:\n",
    "\n",
    "* 2D Tabular Structure: Data is organized in rows and columns, similar to a spreadsheet. Each column has a name (column label) and each row has an index label.\n",
    "* Heterogeneous Data Types: Different columns in a DataFrame can have different data types (e.g., integers, floats, strings, and more).\n",
    "\n",
    "* Data Alignment: Data alignment is performed based on index labels. This means you can perform operations on DataFrames with different sizes, and Pandas will align data based on the labels.\n",
    "\n",
    "* Missing Data Handling: DataFrames can handle missing or NaN (Not a Number) values elegantly, and Pandas provides methods to work with and handle missing data.\n",
    "\n",
    "* Indexing and Selection: You can access and select data from a DataFrame using column names, row labels, and various indexing methods.\n",
    "\n",
    "* Data Operations: Pandas provides a wide range of data manipulation and analysis operations, such as filtering, grouping, merging, reshaping, and aggregation.\n",
    "\n",
    "* Input/Output (I/O): DataFrames can be read from and written to various data sources, including CSV, Excel, SQL databases, and more.\n",
    "\n",
    "\n",
    "\n",
    "\n"
   ]
  },
  {
   "cell_type": "markdown",
   "id": "81ed3c81",
   "metadata": {},
   "source": [
    "### Series:\n",
    "\n",
    "* A Series is a 1-dimensional data structure that can be seen as a single column from a DataFrame.\n",
    "* It is similar to an array or a list in Python but comes with enhanced functionality.\n",
    "* Each element in a Series is assigned an index label.\n",
    "* Series is often used for data that is more naturally represented as a 1D array."
   ]
  },
  {
   "cell_type": "markdown",
   "id": "584fcf2f",
   "metadata": {},
   "source": [
    "### A Pandas Series is a 1D data structure with the following characteristics:\n",
    "\n",
    "* Labeled Data: Each element in a Series has an associated index label. You can use these labels to access and manipulate data.\n",
    "\n",
    "* Homogeneous Data Types: A Series is typically homogeneous, meaning all elements have the same data type (e.g., all integers or all strings).\n",
    "\n",
    "* Array-Like Operations: Series support array-like operations and can be used in mathematical and logical operations.\n",
    "\n",
    "* Built-In Functions: Series have various built-in methods and functions for data manipulation and analysis.\n",
    "\n",
    "* Time Series Support: Pandas Series are commonly used for time series data due to their efficient date and time handling.\n",
    "\n",
    "* Indexing and Selection: You can use index labels or positional indexing to access data in a Series."
   ]
  },
  {
   "cell_type": "markdown",
   "id": "11aa57d6",
   "metadata": {},
   "source": [
    "### Pandas' data structures provide a powerful and efficient way to work with data, making it a popular choice for data analysis, manipulation, and cleaning in the Python ecosystem. Whether you are working with structured data, time series data, or unstructured data, Pandas offers the tools to efficiently process and analyze it."
   ]
  }
 ],
 "metadata": {
  "kernelspec": {
   "display_name": "Python 3 (ipykernel)",
   "language": "python",
   "name": "python3"
  },
  "language_info": {
   "codemirror_mode": {
    "name": "ipython",
    "version": 3
   },
   "file_extension": ".py",
   "mimetype": "text/x-python",
   "name": "python",
   "nbconvert_exporter": "python",
   "pygments_lexer": "ipython3",
   "version": "3.9.7"
  }
 },
 "nbformat": 4,
 "nbformat_minor": 5
}
