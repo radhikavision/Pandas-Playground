{
 "cells": [
  {
   "cell_type": "markdown",
   "id": "f8a9afe3",
   "metadata": {},
   "source": [
    "Here are some common methods to access elements in a Series:"
   ]
  },
  {
   "cell_type": "markdown",
   "id": "4f89ac01",
   "metadata": {},
   "source": [
    "### 1.2.Accessing by Position:\n",
    "You can access elements by their position in the Series using integer indexing. Positions start from 0. \n",
    "For example:"
   ]
  },
  {
   "cell_type": "code",
   "execution_count": 2,
   "id": "f2fd0410",
   "metadata": {},
   "outputs": [],
   "source": [
    "import pandas as pd"
   ]
  },
  {
   "cell_type": "code",
   "execution_count": 4,
   "id": "63f1a42e",
   "metadata": {},
   "outputs": [
    {
     "name": "stdout",
     "output_type": "stream",
     "text": [
      "10\n"
     ]
    }
   ],
   "source": [
    "# index label to access specific elements\n",
    "Data = {'A': 10, 'B':20, 'C':30, 'D':40, 'E':50}\n",
    "series = pd.Series(Data)\n",
    "\n",
    "# Accessing  by Index Label\n",
    "Value = series[0]\n",
    "print(Value)"
   ]
  },
  {
   "cell_type": "markdown",
   "id": "ce630304",
   "metadata": {},
   "source": [
    "This code will access and print the element at the first position (index 0)."
   ]
  },
  {
   "cell_type": "code",
   "execution_count": null,
   "id": "ab2e8c98",
   "metadata": {},
   "outputs": [],
   "source": []
  }
 ],
 "metadata": {
  "kernelspec": {
   "display_name": "Python 3 (ipykernel)",
   "language": "python",
   "name": "python3"
  },
  "language_info": {
   "codemirror_mode": {
    "name": "ipython",
    "version": 3
   },
   "file_extension": ".py",
   "mimetype": "text/x-python",
   "name": "python",
   "nbconvert_exporter": "python",
   "pygments_lexer": "ipython3",
   "version": "3.9.7"
  }
 },
 "nbformat": 4,
 "nbformat_minor": 5
}
