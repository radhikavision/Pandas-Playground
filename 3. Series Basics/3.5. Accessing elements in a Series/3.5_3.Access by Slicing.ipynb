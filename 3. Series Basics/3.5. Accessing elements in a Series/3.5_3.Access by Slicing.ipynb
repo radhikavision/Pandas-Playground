{
 "cells": [
  {
   "cell_type": "markdown",
   "id": "4f89ac01",
   "metadata": {},
   "source": [
    "### 1.2.Accessing by Slicing:\n",
    "You can slice a Series to access a range of elements. Slicing allows you to specify a start and end position or index label. For example:"
   ]
  },
  {
   "cell_type": "code",
   "execution_count": 2,
   "id": "f2fd0410",
   "metadata": {},
   "outputs": [],
   "source": [
    "import pandas as pd"
   ]
  },
  {
   "cell_type": "code",
   "execution_count": 4,
   "id": "63f1a42e",
   "metadata": {},
   "outputs": [
    {
     "name": "stdout",
     "output_type": "stream",
     "text": [
      "B    20\n",
      "C    30\n",
      "D    40\n",
      "dtype: int64\n"
     ]
    }
   ],
   "source": [
    "# Accessing by Slicing\n",
    "Data = {'A': 10, 'B':20, 'C':30, 'D':40, 'E':50}\n",
    "series = pd.Series(Data)\n",
    "\n",
    "# Slicing by position\n",
    "Value = series[1:4]\n",
    "print(Value)"
   ]
  },
  {
   "cell_type": "markdown",
   "id": "ce630304",
   "metadata": {},
   "source": [
    "This code will slice the Series from the second position (index 1) to the fourth position (index 3) and display the resulting subset."
   ]
  }
 ],
 "metadata": {
  "kernelspec": {
   "display_name": "Python 3 (ipykernel)",
   "language": "python",
   "name": "python3"
  },
  "language_info": {
   "codemirror_mode": {
    "name": "ipython",
    "version": 3
   },
   "file_extension": ".py",
   "mimetype": "text/x-python",
   "name": "python",
   "nbconvert_exporter": "python",
   "pygments_lexer": "ipython3",
   "version": "3.9.7"
  }
 },
 "nbformat": 4,
 "nbformat_minor": 5
}
