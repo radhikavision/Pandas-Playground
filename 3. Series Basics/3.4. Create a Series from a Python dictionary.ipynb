{
 "cells": [
  {
   "cell_type": "markdown",
   "id": "e122023b",
   "metadata": {},
   "source": [
    "## 3.4. Create a Series from a Python dictionary"
   ]
  },
  {
   "cell_type": "markdown",
   "id": "4ff35dab",
   "metadata": {},
   "source": [
    "You can create a Pandas Series from a Python dictionary by using the pd.Series() constructor. This allows you to convert a dictionary's key-value pairs into a Series, where keys become the Series' index labels and values become the data points. Here's a brief explanation of how to create a Series from a Python dictionary:"
   ]
  },
  {
   "cell_type": "markdown",
   "id": "ec95a685",
   "metadata": {},
   "source": [
    "## Steps to Create a Series from a Python Dictionary:"
   ]
  },
  {
   "cell_type": "code",
   "execution_count": 6,
   "id": "43e10f74",
   "metadata": {},
   "outputs": [],
   "source": [
    "import pandas as pd"
   ]
  },
  {
   "cell_type": "code",
   "execution_count": 9,
   "id": "b0f4c046",
   "metadata": {},
   "outputs": [],
   "source": [
    "# Creating a Pandas Series from a Python dictionary\n",
    "\n",
    "data_dict = {'A': 10, 'B': 20, 'C': 30}\n",
    "Series = pd.Series(data_dict)\n"
   ]
  },
  {
   "cell_type": "markdown",
   "id": "5e7ec3e8",
   "metadata": {},
   "source": [
    "## Explanation:\n",
    "\n",
    "data_dict is a Python dictionary containing key-value pairs.\n",
    "\n",
    "pd.Series(data_dict) creates a Pandas Series named series with the keys (e.g., 'A', 'B', 'C') from the dictionary becoming the index labels and the corresponding values (e.g., 10, 20, 30) becoming the data points in the Series.\n",
    "\n",
    "Resulting Series:\n",
    "\n",
    "The resulting Series, series, will look like this:"
   ]
  },
  {
   "cell_type": "markdown",
   "id": "b25c6b45",
   "metadata": {},
   "source": [
    "# Resulting Series:\n",
    "\n",
    "The resulting Series, series, will look like this:"
   ]
  },
  {
   "cell_type": "code",
   "execution_count": 10,
   "id": "8c394267",
   "metadata": {},
   "outputs": [
    {
     "name": "stdout",
     "output_type": "stream",
     "text": [
      "A    10\n",
      "B    20\n",
      "C    30\n",
      "dtype: int64\n"
     ]
    }
   ],
   "source": [
    "# Display the Series\n",
    "print(Series)"
   ]
  },
  {
   "cell_type": "markdown",
   "id": "8fcc81f1",
   "metadata": {},
   "source": [
    "## In this Series:\n",
    "\n",
    "The left column represents the index labels ('A', 'B', 'C') derived from the dictionary keys.\n",
    "\n",
    "The right column contains the data from the dictionary values.\n",
    "\n",
    "Creating a Series from a Python dictionary is a convenient way to convert key-value data into a structured and labeled data format, making it easier to work with and analyze the data using Pandas."
   ]
  }
 ],
 "metadata": {
  "kernelspec": {
   "display_name": "Python 3 (ipykernel)",
   "language": "python",
   "name": "python3"
  },
  "language_info": {
   "codemirror_mode": {
    "name": "ipython",
    "version": 3
   },
   "file_extension": ".py",
   "mimetype": "text/x-python",
   "name": "python",
   "nbconvert_exporter": "python",
   "pygments_lexer": "ipython3",
   "version": "3.9.7"
  }
 },
 "nbformat": 4,
 "nbformat_minor": 5
}
