{
 "cells": [
  {
   "cell_type": "markdown",
   "id": "fadef95a",
   "metadata": {},
   "source": [
    " ## 7.Using Series attributes and methods (e.g., head(), tail(), describe())"
   ]
  },
  {
   "cell_type": "markdown",
   "id": "ba981d84",
   "metadata": {},
   "source": [
    "### Certainly, let's go through the code with explanations for each Pandas Series attribute and method:"
   ]
  },
  {
   "cell_type": "code",
   "execution_count": 2,
   "id": "f9596739",
   "metadata": {},
   "outputs": [],
   "source": [
    "import pandas as pd"
   ]
  },
  {
   "cell_type": "code",
   "execution_count": 9,
   "id": "54cdeffb",
   "metadata": {},
   "outputs": [
    {
     "name": "stdout",
     "output_type": "stream",
     "text": [
      "Series:\n",
      "A    10\n",
      "B    20\n",
      "C    30\n",
      "D    40\n",
      "E    50\n",
      "dtype: int64\n"
     ]
    }
   ],
   "source": [
    "# Creating a Pandas Series\n",
    "data = {'A': 10, 'B': 20, 'C': 30, 'D': 40, 'E': 50}\n",
    "series = pd.Series(data)\n",
    "\n",
    "# Display the Series\n",
    "print(\"Series:\")\n",
    "print(series)"
   ]
  },
  {
   "cell_type": "markdown",
   "id": "6fe3704a",
   "metadata": {},
   "source": [
    "##### In this code, we create a Pandas Series called series using a Python dictionary data. This Series has custom index labels ('A', 'B', 'C', 'D', 'E') associated with their respective values."
   ]
  },
  {
   "cell_type": "markdown",
   "id": "4e8b6d65",
   "metadata": {},
   "source": [
    "# Using Series Attributes and Methods"
   ]
  },
  {
   "cell_type": "markdown",
   "id": "c0ef0c3d",
   "metadata": {},
   "source": [
    "## 1. head(N): \n",
    "\n",
    "### The head() method allows you to view the first N rows of the Series. By default, it displays the first 5 rows."
   ]
  },
  {
   "cell_type": "code",
   "execution_count": 10,
   "id": "ba1e4670",
   "metadata": {},
   "outputs": [
    {
     "name": "stdout",
     "output_type": "stream",
     "text": [
      "\n",
      "Head (first 3 rows):\n",
      "A    10\n",
      "B    20\n",
      "C    30\n",
      "dtype: int64\n"
     ]
    }
   ],
   "source": [
    "print(\"\\nHead (first 3 rows):\")\n",
    "print(series.head(3))"
   ]
  },
  {
   "cell_type": "markdown",
   "id": "560d58ac",
   "metadata": {},
   "source": [
    "### Result: Displays the first 3 rows of the Series."
   ]
  },
  {
   "cell_type": "markdown",
   "id": "3ed35407",
   "metadata": {},
   "source": [
    "## 2.tail(N): \n",
    "\n",
    "### The tail() method allows you to view the last N rows of the Series. By default, it displays the last 5 rows."
   ]
  },
  {
   "cell_type": "code",
   "execution_count": 12,
   "id": "8c133dd6",
   "metadata": {},
   "outputs": [
    {
     "name": "stdout",
     "output_type": "stream",
     "text": [
      "\n",
      "Tail (last 2 rows):\n",
      "D    40\n",
      "E    50\n",
      "dtype: int64\n"
     ]
    }
   ],
   "source": [
    "print(\"\\nTail (last 2 rows):\")\n",
    "print(series.tail(2))\n"
   ]
  },
  {
   "cell_type": "markdown",
   "id": "17cb24d8",
   "metadata": {},
   "source": [
    "### Result: Displays the last 2 rows of the Series."
   ]
  },
  {
   "cell_type": "markdown",
   "id": "600b4277",
   "metadata": {},
   "source": [
    "## 3.describe(): \n",
    "\n",
    "### The describe() method provides summary statistics of the Series, including count, mean, standard deviation, minimum, 25th percentile, median (50th percentile), 75th percentile, and maximum."
   ]
  },
  {
   "cell_type": "code",
   "execution_count": 13,
   "id": "fbc18a42",
   "metadata": {},
   "outputs": [
    {
     "name": "stdout",
     "output_type": "stream",
     "text": [
      "\n",
      "Describe:\n",
      "count     5.000000\n",
      "mean     30.000000\n",
      "std      15.811388\n",
      "min      10.000000\n",
      "25%      20.000000\n",
      "50%      30.000000\n",
      "75%      40.000000\n",
      "max      50.000000\n",
      "dtype: float64\n"
     ]
    }
   ],
   "source": [
    "print(\"\\nDescribe:\")\n",
    "print(series.describe())\n"
   ]
  },
  {
   "cell_type": "markdown",
   "id": "a032c40d",
   "metadata": {},
   "source": [
    "### Result: Displays the summary statistics of the Series."
   ]
  },
  {
   "cell_type": "markdown",
   "id": "30c181ce",
   "metadata": {},
   "source": [
    "## 4. shape: \n",
    "\n",
    "### The shape attribute returns a tuple representing the dimensions of the Series, where the first element is the number of rows and the second element is the number of columns (always 1 for a Series)."
   ]
  },
  {
   "cell_type": "code",
   "execution_count": null,
   "id": "f883dcbc",
   "metadata": {},
   "outputs": [],
   "source": [
    "print(\"\\nShape:\")\n",
    "print(series.shape)"
   ]
  },
  {
   "cell_type": "markdown",
   "id": "907ac867",
   "metadata": {},
   "source": [
    "### Result: Displays the shape of the Series as (5,) indicating 5 rows and 1 column."
   ]
  },
  {
   "cell_type": "markdown",
   "id": "16672f30",
   "metadata": {},
   "source": [
    "## 5. values: \n",
    "\n",
    "### The values attribute returns the values of the Series as a NumPy array"
   ]
  },
  {
   "cell_type": "code",
   "execution_count": null,
   "id": "617b1a23",
   "metadata": {},
   "outputs": [],
   "source": [
    "print(\"\\nValues:\")\n",
    "print(series.values)"
   ]
  },
  {
   "cell_type": "markdown",
   "id": "16a8e50d",
   "metadata": {},
   "source": [
    "### Result: Displays the values of the Series as a NumPy array"
   ]
  },
  {
   "cell_type": "markdown",
   "id": "1b42537b",
   "metadata": {},
   "source": [
    "## 6. count(): \n",
    "\n",
    "### The count() method returns the count of non-null elements in the Series."
   ]
  },
  {
   "cell_type": "code",
   "execution_count": 14,
   "id": "325339ed",
   "metadata": {},
   "outputs": [
    {
     "name": "stdout",
     "output_type": "stream",
     "text": [
      "\n",
      "Count:\n",
      "5\n"
     ]
    }
   ],
   "source": [
    "print(\"\\nCount:\")\n",
    "print(series.count())\n"
   ]
  },
  {
   "cell_type": "markdown",
   "id": "2b6b3951",
   "metadata": {},
   "source": [
    "### Result: Displays the count of non-null elements (5 in this case)."
   ]
  },
  {
   "cell_type": "markdown",
   "id": "d3273579",
   "metadata": {},
   "source": [
    "## 7.sum(): \n",
    "\n",
    "### The sum() method returns the sum of all elements in the Series."
   ]
  },
  {
   "cell_type": "code",
   "execution_count": null,
   "id": "f758dfaf",
   "metadata": {},
   "outputs": [],
   "source": [
    "print(\"\\nSum:\")\n",
    "print(series.sum())\n"
   ]
  },
  {
   "cell_type": "markdown",
   "id": "43149602",
   "metadata": {},
   "source": [
    "### Result: Displays the sum of all elements (150 in this case)."
   ]
  },
  {
   "cell_type": "code",
   "execution_count": null,
   "id": "b88d8ea1",
   "metadata": {},
   "outputs": [],
   "source": []
  },
  {
   "cell_type": "markdown",
   "id": "594fff68",
   "metadata": {},
   "source": [
    "## 8. mean(): \n",
    "\n",
    "### The mean() method returns the mean (average) of the elements in the Series."
   ]
  },
  {
   "cell_type": "code",
   "execution_count": null,
   "id": "89ab27af",
   "metadata": {},
   "outputs": [],
   "source": [
    "print(\"\\nMean:\")\n",
    "print(series.mean())"
   ]
  },
  {
   "cell_type": "markdown",
   "id": "5e17aa03",
   "metadata": {},
   "source": [
    "Result: Displays the mean of the elements (30.0 in this case)."
   ]
  },
  {
   "cell_type": "code",
   "execution_count": null,
   "id": "2dbc0710",
   "metadata": {},
   "outputs": [],
   "source": []
  },
  {
   "cell_type": "markdown",
   "id": "e50b0854",
   "metadata": {},
   "source": [
    "## 9. median(): \n",
    "\n",
    "### The median() method returns the median (middle value) of the elements in the Series"
   ]
  },
  {
   "cell_type": "code",
   "execution_count": null,
   "id": "31c21643",
   "metadata": {},
   "outputs": [],
   "source": [
    "print(\"\\nMedian:\")\n",
    "print(series.median())\n"
   ]
  },
  {
   "cell_type": "markdown",
   "id": "d285bd30",
   "metadata": {},
   "source": [
    "### Result: Displays the median of the elements (30.0 in this case)."
   ]
  },
  {
   "cell_type": "markdown",
   "id": "71a2894f",
   "metadata": {},
   "source": [
    "### These attributes and methods provide valuable insights and allow you to work with and explore your Pandas Series effectively."
   ]
  },
  {
   "cell_type": "code",
   "execution_count": null,
   "id": "e5d96aff",
   "metadata": {},
   "outputs": [],
   "source": []
  }
 ],
 "metadata": {
  "kernelspec": {
   "display_name": "Python 3 (ipykernel)",
   "language": "python",
   "name": "python3"
  },
  "language_info": {
   "codemirror_mode": {
    "name": "ipython",
    "version": 3
   },
   "file_extension": ".py",
   "mimetype": "text/x-python",
   "name": "python",
   "nbconvert_exporter": "python",
   "pygments_lexer": "ipython3",
   "version": "3.9.7"
  }
 },
 "nbformat": 4,
 "nbformat_minor": 5
}
