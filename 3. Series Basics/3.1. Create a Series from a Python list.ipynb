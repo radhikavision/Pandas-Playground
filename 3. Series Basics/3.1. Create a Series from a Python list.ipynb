{
 "cells": [
  {
   "cell_type": "markdown",
   "id": "1d3cc013",
   "metadata": {},
   "source": [
    "## Series\n",
    "* A Series is one of the fundamental data structures in Pandas. \n",
    "* It's essentially a one-dimensional array-like object that can hold data of any type, such as integers, floats, strings, or even custom objects. \n",
    "* Each element in a Series is associated with an index label, which can be used for data retrieval and alignment. "
   ]
  },
  {
   "cell_type": "markdown",
   "id": "5aa15714",
   "metadata": {},
   "source": [
    "## Create a Series from a Python list"
   ]
  },
  {
   "cell_type": "markdown",
   "id": "94c6872a",
   "metadata": {},
   "source": [
    "You can create a Pandas Series from a Python list using the pd.Series() constructor. A Series is a one-dimensional labeled array that can hold data of different types. Here's how to create a Series from a Python list and an explanation of the process:"
   ]
  },
  {
   "cell_type": "code",
   "execution_count": 1,
   "id": "cb1b9a70",
   "metadata": {},
   "outputs": [],
   "source": [
    "import pandas as pd"
   ]
  },
  {
   "cell_type": "markdown",
   "id": "60149206",
   "metadata": {},
   "source": [
    "### Explanation:\n",
    "\n",
    "* data_list is a Python list containing the data you want to store in the Series.\n",
    "\n",
    "* pd.Series(data_list) creates a Pandas Series named series with the data from data_list.\n",
    "\n",
    "* By default, the Series will have auto-generated integer index labels (0, 1, 2, 3, 4) that correspond to the positions of   the elements in the list."
   ]
  },
  {
   "cell_type": "code",
   "execution_count": 8,
   "id": "d62a72b4",
   "metadata": {},
   "outputs": [
    {
     "name": "stdout",
     "output_type": "stream",
     "text": [
      "0    1\n",
      "1    2\n",
      "2    3\n",
      "3    4\n",
      "4    5\n",
      "dtype: int64\n"
     ]
    }
   ],
   "source": [
    "# Creating a Pandas Series from a Python list\n",
    "Data = [1, 2, 3, 4, 5]\n",
    "Series = pd.Series(Data)\n",
    "\n",
    "# Display the Serie\n",
    "print(Series)"
   ]
  },
  {
   "cell_type": "markdown",
   "id": "0d3e35c5",
   "metadata": {},
   "source": [
    "### Explanation:\n",
    "\n",
    "* data_list is a Python list containing the data you want to store in the Series.\n",
    "\n",
    "* pd.Series(data_list) creates a Pandas Series named series with the data from data_list.\n",
    "\n",
    "* By default, the Series will have auto-generated integer index labels (0, 1, 2, 3, 4) that correspond to the positions of   the elements in the list."
   ]
  },
  {
   "cell_type": "markdown",
   "id": "8e8c9676",
   "metadata": {},
   "source": [
    "## Resulting Series:"
   ]
  },
  {
   "cell_type": "markdown",
   "id": "69d05ed3",
   "metadata": {},
   "source": [
    "In this Series:\n",
    "\n",
    "* The left column represents the index labels (0 to 4) that Pandas automatically generates.\n",
    "* The right column contains the data from the Python list.\n",
    "* You can access and manipulate the data in the Series using these index labels, and you can perform various data analysis   and manipulation operations on it using Pandas' built-in methods and functions.\n",
    "\n",
    "\n",
    "\n",
    "\n",
    "\n"
   ]
  }
 ],
 "metadata": {
  "kernelspec": {
   "display_name": "Python 3 (ipykernel)",
   "language": "python",
   "name": "python3"
  },
  "language_info": {
   "codemirror_mode": {
    "name": "ipython",
    "version": 3
   },
   "file_extension": ".py",
   "mimetype": "text/x-python",
   "name": "python",
   "nbconvert_exporter": "python",
   "pygments_lexer": "ipython3",
   "version": "3.9.7"
  }
 },
 "nbformat": 4,
 "nbformat_minor": 5
}
