{
 "cells": [
  {
   "cell_type": "markdown",
   "id": "00d5b157",
   "metadata": {},
   "source": [
    "## 3.6. Basic Arithmetic Operations on Pandas Series:"
   ]
  },
  {
   "cell_type": "markdown",
   "id": "27757504",
   "metadata": {},
   "source": [
    "You can perform arithmetic operations (addition, subtraction, multiplication, and division) on Pandas Series. These operations are carried out element-wise, meaning each element in one Series is operated on with the corresponding element in another Series."
   ]
  },
  {
   "cell_type": "code",
   "execution_count": 14,
   "id": "e3e14fca",
   "metadata": {},
   "outputs": [],
   "source": [
    "import pandas as pd"
   ]
  },
  {
   "cell_type": "code",
   "execution_count": 15,
   "id": "d713959e",
   "metadata": {
    "scrolled": true
   },
   "outputs": [],
   "source": [
    "# Create two Pandas Series\n",
    "series1 = pd.Series([1, 2, 3, 4])\n",
    "series2 = pd.Series([10, 20, 30, 40])\n",
    "\n",
    "# Addition\n",
    "result_addition = series1 + series2\n",
    "\n",
    "# Subtraction\n",
    "result_subtraction = series1 - series2\n",
    "\n",
    "# Multiplication\n",
    "result_multiplication = series1 * series2\n",
    "\n",
    "# Division\n",
    "result_division = series1 / series2\n"
   ]
  },
  {
   "cell_type": "markdown",
   "id": "77a932fd",
   "metadata": {},
   "source": [
    "## Explanation:\n",
    "\n",
    "* series1 and series2 are two Pandas Series created with numeric data.\n",
    "\n",
    "* result_addition contains the result of adding corresponding elements from series1 and series2. For example, the first element in result_addition is the sum of the first elements in series1 and series2.\n",
    "\n",
    "* Similarly, result_subtraction, result_multiplication, and result_division contain the results of subtraction, multiplication, and division operations, respectively.\n",
    "\n",
    "## Results:\n",
    "\n",
    "The results are new Pandas Series with the same index labels as the input Series. For example, result_addition may look like this:"
   ]
  },
  {
   "cell_type": "code",
   "execution_count": 16,
   "id": "8e1c8262",
   "metadata": {},
   "outputs": [
    {
     "name": "stdout",
     "output_type": "stream",
     "text": [
      "Result of Addition:\n",
      "0    11\n",
      "1    22\n",
      "2    33\n",
      "3    44\n",
      "dtype: int64\n",
      "\n",
      "Result of Subtraction:\n",
      "0    -9\n",
      "1   -18\n",
      "2   -27\n",
      "3   -36\n",
      "dtype: int64\n",
      "\n",
      "Result of Multiplication:\n",
      "0     10\n",
      "1     40\n",
      "2     90\n",
      "3    160\n",
      "dtype: int64\n",
      "\n",
      "Result of Division:\n",
      "0    0.1\n",
      "1    0.1\n",
      "2    0.1\n",
      "3    0.1\n",
      "dtype: float64\n"
     ]
    }
   ],
   "source": [
    "# Display the results\n",
    "print(\"Result of Addition:\")\n",
    "print(result_addition)\n",
    "\n",
    "print(\"\\nResult of Subtraction:\")\n",
    "print(result_subtraction)\n",
    "\n",
    "print(\"\\nResult of Multiplication:\")\n",
    "print(result_multiplication)\n",
    "\n",
    "print(\"\\nResult of Division:\")\n",
    "print(result_division)"
   ]
  },
  {
   "cell_type": "markdown",
   "id": "04fcfa78",
   "metadata": {},
   "source": [
    "Each result Series contains the outcomes of the respective arithmetic operation applied element-wise to the input Series.\n",
    "\n",
    "### Benefits of Arithmetic Operations:\n",
    "\n",
    "* These operations allow you to efficiently perform calculations and transformations on data without explicit loops.\n",
    "* Pandas handles broadcasting, enabling operations between Series of different sizes, provided that the indices align correctly.\n",
    "* They are particularly useful for numerical data analysis and manipulation.\n",
    "\n",
    "#### In summary, basic arithmetic operations on Pandas Series provide a straightforward and efficient way to perform mathematical operations on your data, making Pandas a powerful tool for data analysis and manipulation."
   ]
  },
  {
   "cell_type": "code",
   "execution_count": null,
   "id": "e129d9c0",
   "metadata": {},
   "outputs": [],
   "source": []
  }
 ],
 "metadata": {
  "kernelspec": {
   "display_name": "Python 3 (ipykernel)",
   "language": "python",
   "name": "python3"
  },
  "language_info": {
   "codemirror_mode": {
    "name": "ipython",
    "version": 3
   },
   "file_extension": ".py",
   "mimetype": "text/x-python",
   "name": "python",
   "nbconvert_exporter": "python",
   "pygments_lexer": "ipython3",
   "version": "3.9.7"
  }
 },
 "nbformat": 4,
 "nbformat_minor": 5
}
