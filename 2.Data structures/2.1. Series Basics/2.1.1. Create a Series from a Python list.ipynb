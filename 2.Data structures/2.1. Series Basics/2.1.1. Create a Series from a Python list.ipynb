{
 "cells": [
  {
   "cell_type": "markdown",
   "id": "1d3cc013",
   "metadata": {},
   "source": [
    "## 2.1.1.Series.\n",
    "* A Series is one of the fundamental data structures in Pandas. \n",
    "* It's essentially a one-dimensional array-like object that can hold data of any type, such as integers, floats, strings, or even custom objects. \n",
    "* Each element in a Series is associated with an index label, which can be used for data retrieval and alignment. "
   ]
  },
  {
   "cell_type": "markdown",
   "id": "5aa15714",
   "metadata": {},
   "source": [
    "## Create a Series from a Python list"
   ]
  },
  {
   "cell_type": "markdown",
   "id": "94c6872a",
   "metadata": {},
   "source": [
    "You can create a Pandas Series from a Python list using the pd.Series() constructor. A Series is a one-dimensional labeled array that can hold data of different types. Here's how to create a Series from a Python list and an explanation of the process:"
   ]
  },
  {
   "cell_type": "markdown",
   "id": "05010abd",
   "metadata": {},
   "source": [
    "### 1. Importing Pandas:\n",
    "\n",
    "The first line imports the Pandas library, usually done at the beginning of a script or notebook."
   ]
  },
  {
   "cell_type": "code",
   "execution_count": 1,
   "id": "cb1b9a70",
   "metadata": {},
   "outputs": [],
   "source": [
    "import pandas as pd"
   ]
  },
  {
   "cell_type": "markdown",
   "id": "2301093a",
   "metadata": {},
   "source": [
    "### 2. Creating a Python List:\n",
    "\n",
    "The second line creates a Python list named Data with elements [1, 2, 3, 4, 5]."
   ]
  },
  {
   "cell_type": "code",
   "execution_count": null,
   "id": "7e4b89d6",
   "metadata": {},
   "outputs": [],
   "source": [
    "# Creating a Pandas Series from a Python list\n",
    "Data = [1, 2, 3, 4, 5]"
   ]
  },
  {
   "cell_type": "markdown",
   "id": "f9bec2a5",
   "metadata": {},
   "source": [
    "### 3. Creating a Pandas Series:\n",
    "\n",
    "The third line creates a Pandas Series named Series from the Python list Data.\n",
    "The general syntax for creating a Series is pd.Series(data, index).\n",
    "In this case, the data parameter is set to the Python list Data, and the index is automatically generated as a sequence of integers starting from 0."
   ]
  },
  {
   "cell_type": "code",
   "execution_count": null,
   "id": "8b821aa7",
   "metadata": {},
   "outputs": [],
   "source": [
    "Series = pd.Series(Data)"
   ]
  },
  {
   "cell_type": "markdown",
   "id": "0442b74b",
   "metadata": {},
   "source": [
    "### 4. Displaying the Series:\n",
    "\n",
    "The fourth line prints the Series to the console."
   ]
  },
  {
   "cell_type": "code",
   "execution_count": null,
   "id": "d392fcf4",
   "metadata": {},
   "outputs": [],
   "source": [
    "# Display the Serie\n",
    "print(Series)"
   ]
  },
  {
   "cell_type": "markdown",
   "id": "bb47ee59",
   "metadata": {},
   "source": [
    "### Let's break down the code step by step:"
   ]
  },
  {
   "cell_type": "code",
   "execution_count": 8,
   "id": "d62a72b4",
   "metadata": {
    "scrolled": true
   },
   "outputs": [
    {
     "name": "stdout",
     "output_type": "stream",
     "text": [
      "0    1\n",
      "1    2\n",
      "2    3\n",
      "3    4\n",
      "4    5\n",
      "dtype: int64\n"
     ]
    }
   ],
   "source": [
    "# Creating a Pandas Series from a Python list\n",
    "Data = [1, 2, 3, 4, 5]\n",
    "Series = pd.Series(Data)\n",
    "\n",
    "# Display the Serie\n",
    "print(Series)"
   ]
  },
  {
   "cell_type": "markdown",
   "id": "7922d1de",
   "metadata": {},
   "source": [
    "### This will output the Series containing the elements from the Python list."
   ]
  },
  {
   "cell_type": "markdown",
   "id": "0d3e35c5",
   "metadata": {},
   "source": [
    "### Explanation:\n",
    "\n",
    "* data_list is a Python list containing the data you want to store in the Series.\n",
    "\n",
    "* pd.Series(data_list) creates a Pandas Series named series with the data from data_list.\n",
    "\n",
    "* By default, the Series will have auto-generated integer index labels (0, 1, 2, 3, 4) that correspond to the positions of   the elements in the list."
   ]
  }
 ],
 "metadata": {
  "kernelspec": {
   "display_name": "Python 3 (ipykernel)",
   "language": "python",
   "name": "python3"
  },
  "language_info": {
   "codemirror_mode": {
    "name": "ipython",
    "version": 3
   },
   "file_extension": ".py",
   "mimetype": "text/x-python",
   "name": "python",
   "nbconvert_exporter": "python",
   "pygments_lexer": "ipython3",
   "version": "3.9.7"
  }
 },
 "nbformat": 4,
 "nbformat_minor": 5
}
